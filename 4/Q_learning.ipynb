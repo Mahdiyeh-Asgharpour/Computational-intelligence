{
 "cells": [
  {
   "cell_type": "code",
   "execution_count": 2,
   "metadata": {},
   "outputs": [],
   "source": [
    "import numpy as np\n",
    "import random"
   ]
  },
  {
   "cell_type": "code",
   "execution_count": 30,
   "metadata": {},
   "outputs": [],
   "source": [
    "users = [\n",
    "    {\"id\": 1, \"preferences\": [\"Action\", \"Comedy\"]},\n",
    "    {\"id\": 2, \"preferences\": [\"Drama\", \"Romance\"]},\n",
    "    {\"id\": 3, \"preferences\": [\"Action\", \"Thriller\"]},\n",
    "    {\"id\": 4, \"preferences\": [\"Horror\", \"Sci-Fi\"]},\n",
    "    {\"id\": 5, \"preferences\": [\"Comedy\", \"Family\"]},\n",
    "    {\"id\": 6, \"preferences\": [\"Romance\", \"Musical\"]},\n",
    "    {\"id\": 7, \"preferences\": [\"Drama\", \"Action\"]},\n",
    "    {\"id\": 8, \"preferences\": [\"Fantasy\", \"Adventure\"]},\n",
    "    {\"id\": 9, \"preferences\": [\"Thriller\", \"Horror\"]},\n",
    "    {\"id\": 10, \"preferences\": [\"Documentary\", \"History\"]},\n",
    "]\n",
    "movies = [\n",
    "    {\"id\": 1, \"genre\": \"Action\", \"popularity\": 5},\n",
    "    {\"id\": 2, \"genre\": \"Comedy\", \"popularity\": 3},\n",
    "    {\"id\": 3, \"genre\": \"Drama\", \"popularity\": 4},\n",
    "    {\"id\": 4, \"genre\": \"Romance\", \"popularity\": 2},\n",
    "    # {\"id\": 5, \"genre\": \"Horror\", \"popularity\": 4},\n",
    "    # {\"id\": 6, \"genre\": \"Sci-Fi\", \"popularity\": 5},\n",
    "    # {\"id\": 7, \"genre\": \"Fantasy\", \"popularity\": 3},\n",
    "    # {\"id\": 8, \"genre\": \"Adventure\", \"popularity\": 4},\n",
    "    # {\"id\": 9, \"genre\": \"Thriller\", \"popularity\": 5},\n",
    "    # {\"id\": 10, \"genre\": \"Documentary\", \"popularity\": 3},\n",
    "]"
   ]
  },
  {
   "cell_type": "code",
   "execution_count": 32,
   "metadata": {},
   "outputs": [],
   "source": [
    "n_states = len(users) * len(movies) \n",
    "n_actions = len(movies) \n",
    "q_table = np.zeros((n_states, n_actions))\n",
    "alpha = 0.1  \n",
    "gamma = 0.9 \n",
    "epsilon = 0.2  "
   ]
  },
  {
   "cell_type": "code",
   "execution_count": 33,
   "metadata": {},
   "outputs": [],
   "source": [
    "def get_reward(user, movie):\n",
    "    if movie[\"genre\"] in user[\"preferences\"]:\n",
    "        return 10 \n",
    "    return -5 "
   ]
  },
  {
   "cell_type": "code",
   "execution_count": 34,
   "metadata": {},
   "outputs": [],
   "source": [
    "def get_state(user, movie):\n",
    "    return users.index(user) * len(movies) + movies.index(movie)"
   ]
  },
  {
   "cell_type": "code",
   "execution_count": 36,
   "metadata": {},
   "outputs": [],
   "source": [
    "n_epochs = 1000\n",
    "for epoch in range(n_epochs):\n",
    "    user = random.choice(users) \n",
    "    current_state = random.choice(range(n_states)) \n",
    "    if random.uniform(0, 1) < epsilon:\n",
    "        action = random.choice(range(n_actions)) \n",
    "    else:\n",
    "        action = np.argmax(q_table[current_state])  \n",
    "    recommended_movie = movies[action]\n",
    "    reward = get_reward(user, recommended_movie)  \n",
    "    next_state = get_state(user, recommended_movie)\n",
    "    q_table[current_state, action] = q_table[current_state, action] + alpha * (\n",
    "        reward + gamma * np.max(q_table[next_state]) - q_table[current_state, action]\n",
    "    )"
   ]
  },
  {
   "cell_type": "code",
   "execution_count": 37,
   "metadata": {},
   "outputs": [],
   "source": [
    "def recommend(user):\n",
    "    user_index = users.index(user) \n",
    "    start_index = user_index * len(movies)  \n",
    "    end_index = start_index + len(movies) \n",
    "    state_values = q_table[start_index:end_index]\n",
    "    recommended_action = np.argmax(state_values)    \n",
    "    return movies[recommended_action]  "
   ]
  },
  {
   "cell_type": "code",
   "execution_count": 41,
   "metadata": {},
   "outputs": [
    {
     "name": "stdout",
     "output_type": "stream",
     "text": [
      "Recommended Movie for User 3: Romance\n"
     ]
    }
   ],
   "source": [
    "# for i in range(0,10):\n",
    "#     try:\n",
    "#         user = users[i]\n",
    "#         recommended_movie = recommend(user)\n",
    "#         print(f\"Recommended Movie for User {user['id']}: {recommended_movie['genre']}\")\n",
    "#     except Exception as e:\n",
    "#         print(f\"Error for User {user['id']}: {e}\")\n",
    "user = users[2]\n",
    "recommended_movie = recommend(user)\n",
    "print(f\"Recommended Movie for User {user['id']}: {recommended_movie['genre']}\")"
   ]
  },
  {
   "cell_type": "code",
   "execution_count": 42,
   "metadata": {},
   "outputs": [
    {
     "data": {
      "text/plain": [
       "array([[-2.38772194, -2.22198988, -2.3766437 , -0.78242474],\n",
       "       [-1.51464986, -1.99699193, -1.70310456, -2.69196771],\n",
       "       [ 0.61628551, -2.10134962, -2.44922015, -2.24837366],\n",
       "       [-1.62852841, -1.92249726, -2.42847163, -2.24291911],\n",
       "       [-2.90628354, -2.1314491 , -0.56617694, -2.36434283],\n",
       "       [-2.6609786 , -2.73281696, -2.86229876, -0.22014121],\n",
       "       [-2.02954186, -1.34963002, -1.53842836, -1.40061524],\n",
       "       [ 1.40995295, -3.11121153, -2.7684596 , -2.70782347],\n",
       "       [-0.82733053, -2.19141057, -2.48436233,  0.93269032],\n",
       "       [-1.40383631,  0.75662455, -0.80098608, -2.51405174],\n",
       "       [-2.21457209, -1.87304511, -2.01911549, -2.0189076 ],\n",
       "       [-0.55926089, -1.6979611 , -1.45772672, -1.9155657 ],\n",
       "       [-2.33014606, -2.20404115, -0.16615672, -2.54038775],\n",
       "       [-2.53078758, -2.5007122 , -2.51280372, -1.95259828],\n",
       "       [ 0.57000777, -1.59664577, -1.88268779, -1.76086247],\n",
       "       [-0.88162564, -3.22606583, -2.69547285, -2.79635592],\n",
       "       [-1.28208264, -1.72970463, -2.54448734, -2.94918858],\n",
       "       [-2.03768977, -1.86214822, -1.91649696, -2.06572506],\n",
       "       [ 0.1331352 , -0.86256187, -0.89648763, -2.27464136],\n",
       "       [-2.63553605, -2.73250061, -2.45344496, -2.74212664],\n",
       "       [-1.38926157, -1.80101187, -1.64150125, -1.50647251],\n",
       "       [-2.54569807, -2.07761915, -2.60985063, -0.06046763],\n",
       "       [-1.62530421, -2.12348145, -0.70926663, -1.31003711],\n",
       "       [-2.14875477, -1.01436267, -1.07250524, -1.61565937],\n",
       "       [-2.20946707, -2.18291533, -1.13212386, -1.98578192],\n",
       "       [-0.82870605, -1.15245378, -2.00933145, -2.34100617],\n",
       "       [-2.34749147, -2.22940862, -2.10586762, -2.56043949],\n",
       "       [-3.09592487, -2.93837101, -2.73368676, -3.01142404],\n",
       "       [-2.14261595, -2.21891506, -1.94588681, -2.27187475],\n",
       "       [-2.60620401, -2.82991209, -2.74634904, -2.77299875],\n",
       "       [ 1.4770196 , -0.85725806, -1.39566342, -2.0051673 ],\n",
       "       [-2.23325929, -2.11929587, -2.11881236, -2.05580441],\n",
       "       [-2.19302535, -2.06220372, -2.75983977, -0.41693209],\n",
       "       [-1.90437184, -1.71317804, -1.42145125, -1.94213534],\n",
       "       [-0.42053564, -1.69671536, -2.24503211, -0.70299842],\n",
       "       [-0.3542833 , -1.52893219, -1.71299537, -0.46334535],\n",
       "       [-0.87408015, -1.43480842, -0.62891338, -1.16155301],\n",
       "       [ 1.34718818, -0.74076677, -1.67256993, -0.62482519],\n",
       "       [-2.64024393, -2.63224976, -2.64444916, -2.55489332],\n",
       "       [-1.9315395 , -2.16046947, -1.95032009, -2.02339842]])"
      ]
     },
     "execution_count": 42,
     "metadata": {},
     "output_type": "execute_result"
    }
   ],
   "source": [
    "q_table"
   ]
  }
 ],
 "metadata": {
  "kernelspec": {
   "display_name": "Python 3",
   "language": "python",
   "name": "python3"
  },
  "language_info": {
   "codemirror_mode": {
    "name": "ipython",
    "version": 3
   },
   "file_extension": ".py",
   "mimetype": "text/x-python",
   "name": "python",
   "nbconvert_exporter": "python",
   "pygments_lexer": "ipython3",
   "version": "3.12.4"
  }
 },
 "nbformat": 4,
 "nbformat_minor": 2
}
