{
 "cells": [
  {
   "cell_type": "code",
   "execution_count": 2,
   "metadata": {},
   "outputs": [
    {
     "name": "stdout",
     "output_type": "stream",
     "text": [
      "Collecting sklearn-lvq\n",
      "  Downloading sklearn_lvq-1.1.1-py3-none-any.whl.metadata (3.7 kB)\n",
      "Requirement already satisfied: numpy>=1.9.1 in c:\\users\\mahdie\\appdata\\local\\programs\\python\\python312\\lib\\site-packages (from sklearn-lvq) (1.26.4)\n",
      "Requirement already satisfied: scikit-learn>=0.17 in c:\\users\\mahdie\\appdata\\local\\programs\\python\\python312\\lib\\site-packages (from sklearn-lvq) (1.5.1)\n",
      "Requirement already satisfied: scipy>=1.6.0 in c:\\users\\mahdie\\appdata\\local\\programs\\python\\python312\\lib\\site-packages (from scikit-learn>=0.17->sklearn-lvq) (1.14.0)\n",
      "Requirement already satisfied: joblib>=1.2.0 in c:\\users\\mahdie\\appdata\\local\\programs\\python\\python312\\lib\\site-packages (from scikit-learn>=0.17->sklearn-lvq) (1.4.2)\n",
      "Requirement already satisfied: threadpoolctl>=3.1.0 in c:\\users\\mahdie\\appdata\\local\\programs\\python\\python312\\lib\\site-packages (from scikit-learn>=0.17->sklearn-lvq) (3.5.0)\n",
      "Downloading sklearn_lvq-1.1.1-py3-none-any.whl (38 kB)\n",
      "Installing collected packages: sklearn-lvq\n",
      "Successfully installed sklearn-lvq-1.1.1\n"
     ]
    },
    {
     "name": "stderr",
     "output_type": "stream",
     "text": [
      "\n",
      "[notice] A new release of pip is available: 24.0 -> 24.3.1\n",
      "[notice] To update, run: python.exe -m pip install --upgrade pip\n"
     ]
    }
   ],
   "source": [
    "!pip install sklearn-lvq"
   ]
  },
  {
   "cell_type": "code",
   "execution_count": null,
   "metadata": {},
   "outputs": [],
   "source": [
    "import pandas as pd\n",
    "import numpy as np\n",
    "from sklearn.model_selection import train_test_split\n",
    "from sklearn.preprocessing import StandardScaler, LabelEncoder\n",
    "from sklearn.metrics import accuracy_score, confusion_matrix\n",
    "from sklearn_lvq import GlvqModel  "
   ]
  },
  {
   "cell_type": "code",
   "execution_count": null,
   "metadata": {},
   "outputs": [
    {
     "name": "stdout",
     "output_type": "stream",
     "text": [
      "   ParticipantID  TimeTaken  NumberOfAttempts  IPRegion  CodeSimilarity  \\\n",
      "0              1  34.967142                 1         2       52.225452   \n",
      "1              2  28.617357                 2         4       64.456836   \n",
      "2              3  36.476885                 1         4       72.564259   \n",
      "3              4  45.230299                 7         4       55.849152   \n",
      "4              5  27.658466                 6         4       72.663373   \n",
      "\n",
      "   NumberOfRequests  IsCheater  \n",
      "0                 2          0  \n",
      "1                 1          0  \n",
      "2                 3          0  \n",
      "3                 2          0  \n",
      "4                 1          0  \n",
      "<class 'pandas.core.frame.DataFrame'>\n",
      "RangeIndex: 1000 entries, 0 to 999\n",
      "Data columns (total 7 columns):\n",
      " #   Column            Non-Null Count  Dtype  \n",
      "---  ------            --------------  -----  \n",
      " 0   ParticipantID     1000 non-null   int64  \n",
      " 1   TimeTaken         1000 non-null   float64\n",
      " 2   NumberOfAttempts  1000 non-null   int64  \n",
      " 3   IPRegion          1000 non-null   int64  \n",
      " 4   CodeSimilarity    1000 non-null   float64\n",
      " 5   NumberOfRequests  1000 non-null   int64  \n",
      " 6   IsCheater         1000 non-null   int64  \n",
      "dtypes: float64(2), int64(5)\n",
      "memory usage: 54.8 KB\n",
      "None\n"
     ]
    }
   ],
   "source": [
    "data = pd.read_csv('LVQ_data.csv')\n",
    "print(data.head())\n",
    "print(data.info())"
   ]
  },
  {
   "cell_type": "code",
   "execution_count": 6,
   "metadata": {},
   "outputs": [
    {
     "data": {
      "text/html": [
       "<div>\n",
       "<style scoped>\n",
       "    .dataframe tbody tr th:only-of-type {\n",
       "        vertical-align: middle;\n",
       "    }\n",
       "\n",
       "    .dataframe tbody tr th {\n",
       "        vertical-align: top;\n",
       "    }\n",
       "\n",
       "    .dataframe thead th {\n",
       "        text-align: right;\n",
       "    }\n",
       "</style>\n",
       "<table border=\"1\" class=\"dataframe\">\n",
       "  <thead>\n",
       "    <tr style=\"text-align: right;\">\n",
       "      <th></th>\n",
       "      <th>ParticipantID</th>\n",
       "      <th>TimeTaken</th>\n",
       "      <th>NumberOfAttempts</th>\n",
       "      <th>IPRegion</th>\n",
       "      <th>CodeSimilarity</th>\n",
       "      <th>NumberOfRequests</th>\n",
       "      <th>IsCheater</th>\n",
       "    </tr>\n",
       "  </thead>\n",
       "  <tbody>\n",
       "    <tr>\n",
       "      <th>0</th>\n",
       "      <td>1</td>\n",
       "      <td>34.967142</td>\n",
       "      <td>1</td>\n",
       "      <td>2</td>\n",
       "      <td>52.225452</td>\n",
       "      <td>2</td>\n",
       "      <td>0</td>\n",
       "    </tr>\n",
       "    <tr>\n",
       "      <th>1</th>\n",
       "      <td>2</td>\n",
       "      <td>28.617357</td>\n",
       "      <td>2</td>\n",
       "      <td>4</td>\n",
       "      <td>64.456836</td>\n",
       "      <td>1</td>\n",
       "      <td>0</td>\n",
       "    </tr>\n",
       "    <tr>\n",
       "      <th>2</th>\n",
       "      <td>3</td>\n",
       "      <td>36.476885</td>\n",
       "      <td>1</td>\n",
       "      <td>4</td>\n",
       "      <td>72.564259</td>\n",
       "      <td>3</td>\n",
       "      <td>0</td>\n",
       "    </tr>\n",
       "    <tr>\n",
       "      <th>3</th>\n",
       "      <td>4</td>\n",
       "      <td>45.230299</td>\n",
       "      <td>7</td>\n",
       "      <td>4</td>\n",
       "      <td>55.849152</td>\n",
       "      <td>2</td>\n",
       "      <td>0</td>\n",
       "    </tr>\n",
       "    <tr>\n",
       "      <th>4</th>\n",
       "      <td>5</td>\n",
       "      <td>27.658466</td>\n",
       "      <td>6</td>\n",
       "      <td>4</td>\n",
       "      <td>72.663373</td>\n",
       "      <td>1</td>\n",
       "      <td>0</td>\n",
       "    </tr>\n",
       "    <tr>\n",
       "      <th>...</th>\n",
       "      <td>...</td>\n",
       "      <td>...</td>\n",
       "      <td>...</td>\n",
       "      <td>...</td>\n",
       "      <td>...</td>\n",
       "      <td>...</td>\n",
       "      <td>...</td>\n",
       "    </tr>\n",
       "    <tr>\n",
       "      <th>995</th>\n",
       "      <td>996</td>\n",
       "      <td>27.188997</td>\n",
       "      <td>3</td>\n",
       "      <td>2</td>\n",
       "      <td>95.848056</td>\n",
       "      <td>0</td>\n",
       "      <td>0</td>\n",
       "    </tr>\n",
       "    <tr>\n",
       "      <th>996</th>\n",
       "      <td>997</td>\n",
       "      <td>47.976865</td>\n",
       "      <td>1</td>\n",
       "      <td>1</td>\n",
       "      <td>99.840386</td>\n",
       "      <td>4</td>\n",
       "      <td>0</td>\n",
       "    </tr>\n",
       "    <tr>\n",
       "      <th>997</th>\n",
       "      <td>998</td>\n",
       "      <td>36.408429</td>\n",
       "      <td>3</td>\n",
       "      <td>2</td>\n",
       "      <td>57.684207</td>\n",
       "      <td>3</td>\n",
       "      <td>0</td>\n",
       "    </tr>\n",
       "    <tr>\n",
       "      <th>998</th>\n",
       "      <td>999</td>\n",
       "      <td>24.288210</td>\n",
       "      <td>2</td>\n",
       "      <td>4</td>\n",
       "      <td>93.148202</td>\n",
       "      <td>5</td>\n",
       "      <td>0</td>\n",
       "    </tr>\n",
       "    <tr>\n",
       "      <th>999</th>\n",
       "      <td>1000</td>\n",
       "      <td>35.725828</td>\n",
       "      <td>5</td>\n",
       "      <td>2</td>\n",
       "      <td>63.301069</td>\n",
       "      <td>0</td>\n",
       "      <td>0</td>\n",
       "    </tr>\n",
       "  </tbody>\n",
       "</table>\n",
       "<p>1000 rows × 7 columns</p>\n",
       "</div>"
      ],
      "text/plain": [
       "     ParticipantID  TimeTaken  NumberOfAttempts  IPRegion  CodeSimilarity  \\\n",
       "0                1  34.967142                 1         2       52.225452   \n",
       "1                2  28.617357                 2         4       64.456836   \n",
       "2                3  36.476885                 1         4       72.564259   \n",
       "3                4  45.230299                 7         4       55.849152   \n",
       "4                5  27.658466                 6         4       72.663373   \n",
       "..             ...        ...               ...       ...             ...   \n",
       "995            996  27.188997                 3         2       95.848056   \n",
       "996            997  47.976865                 1         1       99.840386   \n",
       "997            998  36.408429                 3         2       57.684207   \n",
       "998            999  24.288210                 2         4       93.148202   \n",
       "999           1000  35.725828                 5         2       63.301069   \n",
       "\n",
       "     NumberOfRequests  IsCheater  \n",
       "0                   2          0  \n",
       "1                   1          0  \n",
       "2                   3          0  \n",
       "3                   2          0  \n",
       "4                   1          0  \n",
       "..                ...        ...  \n",
       "995                 0          0  \n",
       "996                 4          0  \n",
       "997                 3          0  \n",
       "998                 5          0  \n",
       "999                 0          0  \n",
       "\n",
       "[1000 rows x 7 columns]"
      ]
     },
     "execution_count": 6,
     "metadata": {},
     "output_type": "execute_result"
    }
   ],
   "source": [
    "data"
   ]
  },
  {
   "cell_type": "code",
   "execution_count": 13,
   "metadata": {},
   "outputs": [],
   "source": [
    "data = data.dropna()    "
   ]
  },
  {
   "cell_type": "code",
   "execution_count": 14,
   "metadata": {},
   "outputs": [],
   "source": [
    "X = data[['TimeTaken', 'NumberOfAttempts', 'IPRegion', 'CodeSimilarity', 'NumberOfRequests']]\n",
    "y = data['IsCheater']\n",
    "scaler = StandardScaler()\n",
    "X = scaler.fit_transform(X)"
   ]
  },
  {
   "cell_type": "code",
   "execution_count": 15,
   "metadata": {},
   "outputs": [],
   "source": [
    "X_train, X_test, y_train, y_test = train_test_split(X, y, test_size=0.3, random_state=42)"
   ]
  },
  {
   "cell_type": "code",
   "execution_count": 16,
   "metadata": {},
   "outputs": [
    {
     "ename": "TypeError",
     "evalue": "GlvqModel.__init__() got an unexpected keyword argument 'learning_rate'",
     "output_type": "error",
     "traceback": [
      "\u001b[1;31m---------------------------------------------------------------------------\u001b[0m",
      "\u001b[1;31mTypeError\u001b[0m                                 Traceback (most recent call last)",
      "Cell \u001b[1;32mIn[16], line 1\u001b[0m\n\u001b[1;32m----> 1\u001b[0m lvq_model \u001b[38;5;241m=\u001b[39m \u001b[43mGlvqModel\u001b[49m\u001b[43m(\u001b[49m\u001b[43mprototypes_per_class\u001b[49m\u001b[38;5;241;43m=\u001b[39;49m\u001b[38;5;241;43m2\u001b[39;49m\u001b[43m,\u001b[49m\u001b[43m \u001b[49m\u001b[43minitial_prototypes\u001b[49m\u001b[38;5;241;43m=\u001b[39;49m\u001b[38;5;124;43m'\u001b[39;49m\u001b[38;5;124;43mclass\u001b[39;49m\u001b[38;5;124;43m'\u001b[39;49m\u001b[43m,\u001b[49m\u001b[43m \u001b[49m\u001b[43mlearning_rate\u001b[49m\u001b[38;5;241;43m=\u001b[39;49m\u001b[38;5;241;43m0.1\u001b[39;49m\u001b[43m)\u001b[49m\n\u001b[0;32m      2\u001b[0m lvq_model\u001b[38;5;241m.\u001b[39mfit(X_train, y_train)\n",
      "\u001b[1;31mTypeError\u001b[0m: GlvqModel.__init__() got an unexpected keyword argument 'learning_rate'"
     ]
    }
   ],
   "source": [
    "lvq_model = GlvqModel(prototypes_per_class=2, initial_prototypes='class', learning_rate=0.1)\n",
    "lvq_model.fit(X_train, y_train)"
   ]
  },
  {
   "cell_type": "code",
   "execution_count": null,
   "metadata": {},
   "outputs": [],
   "source": [
    "y_pred = lvq_model.predict(X_test)"
   ]
  },
  {
   "cell_type": "code",
   "execution_count": null,
   "metadata": {},
   "outputs": [],
   "source": [
    "accuracy = accuracy_score(y_test, y_pred)\n",
    "accuracy"
   ]
  },
  {
   "cell_type": "code",
   "execution_count": null,
   "metadata": {},
   "outputs": [],
   "source": [
    "conf_matrix = confusion_matrix(y_test, y_pred)\n",
    "conf_matrix"
   ]
  },
  {
   "cell_type": "code",
   "execution_count": null,
   "metadata": {},
   "outputs": [],
   "source": [
    "tp = conf_matrix[1, 1]  # True Positives\n",
    "tn = conf_matrix[0, 0]  # True Negatives\n",
    "fp = conf_matrix[0, 1]  # False Positives\n",
    "fn = conf_matrix[1, 0]  # False Negatives\n",
    "precision = tp / (tp + fp) if (tp + fp) != 0 else 0\n",
    "recall = tp / (tp + fn) if (tp + fn) != 0 else 0\n",
    "f1_score = 2 * precision * recall / (precision + recall) if (precision + recall) != 0 else 0\n",
    "print(\"Precision for 'متقلب':\", precision)\n",
    "print(\"Recall for 'متقلب':\", recall)\n",
    "print(\"F1 Score for 'متقلب':\", f1_score)"
   ]
  }
 ],
 "metadata": {
  "kernelspec": {
   "display_name": "Python 3",
   "language": "python",
   "name": "python3"
  },
  "language_info": {
   "codemirror_mode": {
    "name": "ipython",
    "version": 3
   },
   "file_extension": ".py",
   "mimetype": "text/x-python",
   "name": "python",
   "nbconvert_exporter": "python",
   "pygments_lexer": "ipython3",
   "version": "3.12.4"
  }
 },
 "nbformat": 4,
 "nbformat_minor": 2
}
